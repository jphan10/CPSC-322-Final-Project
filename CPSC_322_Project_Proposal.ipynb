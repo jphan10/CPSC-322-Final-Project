{
  "nbformat": 4,
  "nbformat_minor": 0,
  "metadata": {
    "colab": {
      "provenance": []
    },
    "kernelspec": {
      "name": "python3",
      "display_name": "Python 3"
    },
    "language_info": {
      "name": "python"
    }
  },
  "cells": [
    {
      "cell_type": "markdown",
      "source": [
        "# Team Members: Jaden Phan, Sarah Morrison\n",
        "\n",
        "Dataset: https://www.kaggle.com/datasets/tunguz/nba-forecasts\n",
        "\n"
      ],
      "metadata": {
        "id": "orxnfC_vN6dj"
      }
    },
    {
      "cell_type": "markdown",
      "source": [
        "## Dataset Description\n",
        "There are two tables provided in this dataset.\n",
        "1. nba_elo.csv: contains game-by-game \"elo\" ratings and forecasts back to 1946\n",
        "2. nba_elo_latest.csv: containts game-by-game \"elo\" ratings and forecasts for only the latest season.\n",
        "\n",
        "Both datasets contain the same 24 column attributes. Here are the most important attributes to our study:\n",
        "* date: yyyy-mm-dd of the game\n",
        "* season: yyyy of season\n",
        "* elo1_pre: rating of each team prior to game\n",
        "* elo_prob: analyst predicted chance of team winning\n",
        "* elo_post: rating of each team after the result of the game\n",
        "* score: score of the game for each team for each game\n",
        "\n",
        "## We want to predict the playoff status of the team the following year.\n"
      ],
      "metadata": {
        "id": "OElzemi2Om6D"
      }
    },
    {
      "cell_type": "markdown",
      "source": [
        "## Implementation/Technical Merit\n",
        "* This dataset lacks documentation so we will need to spend some time understanding each attribute as well as deciding units for numerical values.\n",
        "* There are some attributes with obscure names that we will need to understand as well.\n",
        "* About 50% of the attributes have a majority of NULL values so we will need to decide how to interpret and handle these missing values.\n",
        "* Our dataset is about 71,000 instances of data, we will likely need to randomly sample or cut down the size of samples in-order to reduce computing time. That being said having such a large dataset allows us to have a large amount of diversity in our data regardless of how we split or sample."
      ],
      "metadata": {
        "id": "wpc209vtOqNh"
      }
    },
    {
      "cell_type": "markdown",
      "source": [
        "## Potential Impact of Results\n",
        "\n",
        "Teams:\n",
        "\n",
        "This could be useful for the teams in terms of strategy and management. It could also help the teams manage their fan engagement and marketing for the upcoming season.\n",
        "\n",
        "Fans:\n",
        "\n",
        "For fans, this could be useful for betting. This could also be useful for fans for increased general interest in their team, or rival teams.\n"
      ],
      "metadata": {
        "id": "qoJi34VcOty4"
      }
    }
  ]
}